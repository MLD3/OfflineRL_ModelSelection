{
 "cells": [
  {
   "cell_type": "code",
   "execution_count": 1,
   "metadata": {},
   "outputs": [],
   "source": [
    "import numpy as np\n",
    "import tensorflow as tf\n",
    "from tensorflow import keras\n",
    "from tf_utils import select_output_d, select_output"
   ]
  },
  {
   "cell_type": "code",
   "execution_count": 15,
   "metadata": {},
   "outputs": [],
   "source": [
    "run = 9\n",
    "output_dir = './output/run{}/unif-10k/'.format(run)\n",
    "split = 'va'"
   ]
  },
  {
   "cell_type": "code",
   "execution_count": 16,
   "metadata": {},
   "outputs": [
    {
     "name": "stdout",
     "output_type": "stream",
     "text": [
      "INFO:tensorflow:Assets written to: ./output/run6/unif-10k//NFQ-clipped-keras.vaFQE_models/model=0.hidden_net/assets\n",
      "INFO:tensorflow:Assets written to: ./output/run6/unif-10k//NFQ-clipped-keras.vaFQE_models/model=1.hidden_net/assets\n",
      "INFO:tensorflow:Assets written to: ./output/run6/unif-10k//NFQ-clipped-keras.vaFQE_models/model=2.hidden_net/assets\n",
      "INFO:tensorflow:Assets written to: ./output/run6/unif-10k//NFQ-clipped-keras.vaFQE_models/model=3.hidden_net/assets\n",
      "INFO:tensorflow:Assets written to: ./output/run6/unif-10k//NFQ-clipped-keras.vaFQE_models/model=4.hidden_net/assets\n",
      "INFO:tensorflow:Assets written to: ./output/run6/unif-10k//NFQ-clipped-keras.vaFQE_models/model=5.hidden_net/assets\n",
      "INFO:tensorflow:Assets written to: ./output/run6/unif-10k//NFQ-clipped-keras.vaFQE_models/model=6.hidden_net/assets\n",
      "INFO:tensorflow:Assets written to: ./output/run6/unif-10k//NFQ-clipped-keras.vaFQE_models/model=7.hidden_net/assets\n",
      "INFO:tensorflow:Assets written to: ./output/run6/unif-10k//NFQ-clipped-keras.vaFQE_models/model=8.hidden_net/assets\n",
      "INFO:tensorflow:Assets written to: ./output/run6/unif-10k//NFQ-clipped-keras.vaFQE_models/model=9.hidden_net/assets\n",
      "INFO:tensorflow:Assets written to: ./output/run6/unif-10k//NFQ-clipped-keras.vaFQE_models/model=10.hidden_net/assets\n",
      "INFO:tensorflow:Assets written to: ./output/run6/unif-10k//NFQ-clipped-keras.vaFQE_models/model=11.hidden_net/assets\n",
      "INFO:tensorflow:Assets written to: ./output/run6/unif-10k//NFQ-clipped-keras.vaFQE_models/model=12.hidden_net/assets\n",
      "INFO:tensorflow:Assets written to: ./output/run6/unif-10k//NFQ-clipped-keras.vaFQE_models/model=13.hidden_net/assets\n",
      "INFO:tensorflow:Assets written to: ./output/run6/unif-10k//NFQ-clipped-keras.vaFQE_models/model=14.hidden_net/assets\n",
      "INFO:tensorflow:Assets written to: ./output/run6/unif-10k//NFQ-clipped-keras.vaFQE_models/model=15.hidden_net/assets\n",
      "INFO:tensorflow:Assets written to: ./output/run6/unif-10k//NFQ-clipped-keras.vaFQE_models/model=16.hidden_net/assets\n",
      "INFO:tensorflow:Assets written to: ./output/run6/unif-10k//NFQ-clipped-keras.vaFQE_models/model=17.hidden_net/assets\n",
      "INFO:tensorflow:Assets written to: ./output/run6/unif-10k//NFQ-clipped-keras.vaFQE_models/model=18.hidden_net/assets\n",
      "INFO:tensorflow:Assets written to: ./output/run6/unif-10k//NFQ-clipped-keras.vaFQE_models/model=19.hidden_net/assets\n",
      "INFO:tensorflow:Assets written to: ./output/run6/unif-10k//NFQ-clipped-keras.vaFQE_models/model=20.hidden_net/assets\n",
      "INFO:tensorflow:Assets written to: ./output/run6/unif-10k//NFQ-clipped-keras.vaFQE_models/model=21.hidden_net/assets\n",
      "INFO:tensorflow:Assets written to: ./output/run6/unif-10k//NFQ-clipped-keras.vaFQE_models/model=22.hidden_net/assets\n",
      "INFO:tensorflow:Assets written to: ./output/run6/unif-10k//NFQ-clipped-keras.vaFQE_models/model=23.hidden_net/assets\n",
      "INFO:tensorflow:Assets written to: ./output/run6/unif-10k//NFQ-clipped-keras.vaFQE_models/model=24.hidden_net/assets\n",
      "INFO:tensorflow:Assets written to: ./output/run6/unif-10k//NFQ-clipped-keras.vaFQE_models/model=25.hidden_net/assets\n",
      "INFO:tensorflow:Assets written to: ./output/run6/unif-10k//NFQ-clipped-keras.vaFQE_models/model=26.hidden_net/assets\n",
      "INFO:tensorflow:Assets written to: ./output/run6/unif-10k//NFQ-clipped-keras.vaFQE_models/model=27.hidden_net/assets\n",
      "INFO:tensorflow:Assets written to: ./output/run6/unif-10k//NFQ-clipped-keras.vaFQE_models/model=28.hidden_net/assets\n",
      "INFO:tensorflow:Assets written to: ./output/run6/unif-10k//NFQ-clipped-keras.vaFQE_models/model=29.hidden_net/assets\n",
      "INFO:tensorflow:Assets written to: ./output/run6/unif-10k//NFQ-clipped-keras.vaFQE_models/model=30.hidden_net/assets\n",
      "INFO:tensorflow:Assets written to: ./output/run6/unif-10k//NFQ-clipped-keras.vaFQE_models/model=31.hidden_net/assets\n",
      "INFO:tensorflow:Assets written to: ./output/run6/unif-10k//NFQ-clipped-keras.vaFQE_models/model=32.hidden_net/assets\n",
      "INFO:tensorflow:Assets written to: ./output/run6/unif-10k//NFQ-clipped-keras.vaFQE_models/model=33.hidden_net/assets\n",
      "INFO:tensorflow:Assets written to: ./output/run6/unif-10k//NFQ-clipped-keras.vaFQE_models/model=34.hidden_net/assets\n",
      "INFO:tensorflow:Assets written to: ./output/run6/unif-10k//NFQ-clipped-keras.vaFQE_models/model=35.hidden_net/assets\n",
      "INFO:tensorflow:Assets written to: ./output/run6/unif-10k//NFQ-clipped-keras.vaFQE_models/model=36.hidden_net/assets\n",
      "INFO:tensorflow:Assets written to: ./output/run6/unif-10k//NFQ-clipped-keras.vaFQE_models/model=37.hidden_net/assets\n",
      "INFO:tensorflow:Assets written to: ./output/run6/unif-10k//NFQ-clipped-keras.vaFQE_models/model=38.hidden_net/assets\n",
      "INFO:tensorflow:Assets written to: ./output/run6/unif-10k//NFQ-clipped-keras.vaFQE_models/model=39.hidden_net/assets\n",
      "INFO:tensorflow:Assets written to: ./output/run6/unif-10k//NFQ-clipped-keras.vaFQE_models/model=40.hidden_net/assets\n",
      "INFO:tensorflow:Assets written to: ./output/run6/unif-10k//NFQ-clipped-keras.vaFQE_models/model=41.hidden_net/assets\n",
      "INFO:tensorflow:Assets written to: ./output/run6/unif-10k//NFQ-clipped-keras.vaFQE_models/model=42.hidden_net/assets\n",
      "INFO:tensorflow:Assets written to: ./output/run6/unif-10k//NFQ-clipped-keras.vaFQE_models/model=43.hidden_net/assets\n",
      "INFO:tensorflow:Assets written to: ./output/run6/unif-10k//NFQ-clipped-keras.vaFQE_models/model=44.hidden_net/assets\n",
      "INFO:tensorflow:Assets written to: ./output/run6/unif-10k//NFQ-clipped-keras.vaFQE_models/model=45.hidden_net/assets\n",
      "INFO:tensorflow:Assets written to: ./output/run6/unif-10k//NFQ-clipped-keras.vaFQE_models/model=46.hidden_net/assets\n",
      "INFO:tensorflow:Assets written to: ./output/run6/unif-10k//NFQ-clipped-keras.vaFQE_models/model=47.hidden_net/assets\n",
      "INFO:tensorflow:Assets written to: ./output/run6/unif-10k//NFQ-clipped-keras.vaFQE_models/model=48.hidden_net/assets\n",
      "INFO:tensorflow:Assets written to: ./output/run6/unif-10k//NFQ-clipped-keras.vaFQE_models/model=49.hidden_net/assets\n",
      "INFO:tensorflow:Assets written to: ./output/run6/unif-10k//NFQ-clipped-keras.vaFQE_models/model=50.hidden_net/assets\n"
     ]
    }
   ],
   "source": [
    "for k in range(51):\n",
    "    model_FQE = keras.models.load_model('{}/NFQ-clipped-keras.{}FQE_models/iters/model={}_iter=20.hidden_net'.format(output_dir, split, k), custom_objects={'select_output': select_output}, compile=False)\n",
    "    model_FQE.save('{}/NFQ-clipped-keras.{}FQE_models/model={}.hidden_net'.format(output_dir, split, k))"
   ]
  },
  {
   "cell_type": "code",
   "execution_count": null,
   "metadata": {},
   "outputs": [],
   "source": []
  }
 ],
 "metadata": {
  "kernelspec": {
   "display_name": "Python 3",
   "language": "python",
   "name": "python3"
  },
  "language_info": {
   "codemirror_mode": {
    "name": "ipython",
    "version": 3
   },
   "file_extension": ".py",
   "mimetype": "text/x-python",
   "name": "python",
   "nbconvert_exporter": "python",
   "pygments_lexer": "ipython3",
   "version": "3.7.4"
  }
 },
 "nbformat": 4,
 "nbformat_minor": 4
}
