{
 "cells": [
  {
   "cell_type": "code",
   "execution_count": 1,
   "metadata": {},
   "outputs": [],
   "source": [
    "import tensorflow as tf\n",
    "from tensorflow import keras\n",
    "from tf_utils import select_output_d, select_output\n",
    "from OPE_utils_keras import *"
   ]
  },
  {
   "cell_type": "code",
   "execution_count": 2,
   "metadata": {},
   "outputs": [],
   "source": [
    "from tqdm import tqdm"
   ]
  },
  {
   "cell_type": "code",
   "execution_count": 3,
   "metadata": {},
   "outputs": [],
   "source": [
    "runs = range(10)\n",
    "num_epoch = 50"
   ]
  },
  {
   "cell_type": "code",
   "execution_count": 4,
   "metadata": {},
   "outputs": [
    {
     "name": "stderr",
     "output_type": "stream",
     "text": [
      "0: 100%|██████████| 51/51 [00:23<00:00,  2.19it/s]\n",
      "1: 100%|██████████| 51/51 [00:24<00:00,  2.04it/s]\n",
      "2: 100%|██████████| 51/51 [00:22<00:00,  2.25it/s]\n",
      "3: 100%|██████████| 51/51 [00:23<00:00,  2.20it/s]\n",
      "4: 100%|██████████| 51/51 [00:22<00:00,  2.22it/s]\n",
      "5: 100%|██████████| 51/51 [00:24<00:00,  2.04it/s]\n",
      "6: 100%|██████████| 51/51 [00:25<00:00,  2.03it/s]\n",
      "7: 100%|██████████| 51/51 [00:25<00:00,  2.02it/s]\n",
      "8: 100%|██████████| 51/51 [00:25<00:00,  2.01it/s]\n",
      "9: 100%|██████████| 51/51 [00:25<00:00,  2.01it/s]\n"
     ]
    }
   ],
   "source": [
    "# FQI\n",
    "for run in runs:\n",
    "    output_dir = './output/run{}/unif-10k/'.format(run)\n",
    "    for k in tqdm(range(num_epoch+1), desc=str(run)):\n",
    "        try:\n",
    "            Q_nets = keras.models.load_model('{}/NFQ-clipped-keras.models/iter={}.Q_net'.format(output_dir, k), compile=False, custom_objects={'select_output': select_output})\n",
    "        except:\n",
    "            print(run, k)"
   ]
  },
  {
   "cell_type": "code",
   "execution_count": 20,
   "metadata": {},
   "outputs": [
    {
     "name": "stdout",
     "output_type": "stream",
     "text": [
      "trvaFQE_models\n",
      "0\n",
      "1\n",
      "2\n",
      "3\n",
      "4\n",
      "5\n",
      "6\n",
      "7\n",
      "8\n",
      "\n",
      " trvaFQE_models 8 17\n",
      "\n",
      "9\n",
      "\n",
      " trvaFQE_models 9 17\n",
      "\n"
     ]
    }
   ],
   "source": [
    "name = 'trvaFQE_models'\n",
    "print(name)\n",
    "\n",
    "# FQE\n",
    "for run in runs:\n",
    "    print(run)\n",
    "    output_dir = './output/run{}/unif-10k-trva/'.format(run)\n",
    "    for k in range(num_epoch+1):\n",
    "        try:\n",
    "            hidden_nets = keras.models.load_model('{}/NFQ-clipped-keras.{}/model={}.hidden_net'.format(output_dir, name, k), compile=False, custom_objects={'select_output': select_output})\n",
    "        except:\n",
    "            print('\\n', name, run, k)\n",
    "            print()\n",
    "            break"
   ]
  },
  {
   "cell_type": "code",
   "execution_count": 4,
   "metadata": {},
   "outputs": [],
   "source": [
    "model_names = [\n",
    "    'trFQE_models',\n",
    "    'vaFQE_models',\n",
    "    'va500FQE_models',\n",
    "    'va1kFQE_models',\n",
    "    'va5kFQE_models',\n",
    "    'va10k_eps01FQE_models',\n",
    "    'va10k_mixedFQE_models',\n",
    "]"
   ]
  },
  {
   "cell_type": "code",
   "execution_count": 17,
   "metadata": {},
   "outputs": [
    {
     "name": "stdout",
     "output_type": "stream",
     "text": [
      "va1kFQE_models\n",
      "0\n",
      "1\n",
      "2\n",
      "3\n",
      "4\n",
      "5\n",
      "6\n",
      "7\n",
      "\n",
      " va1kFQE_models 7 19\n",
      "\n",
      "8\n",
      "\n",
      " va1kFQE_models 8 14\n",
      "\n",
      "9\n"
     ]
    }
   ],
   "source": [
    "name = model_names[3]\n",
    "print(name)\n",
    "\n",
    "# FQE\n",
    "for run in runs:\n",
    "    print(run)\n",
    "    output_dir = './output/run{}/unif-10k/'.format(run)\n",
    "    for k in range(num_epoch+1):\n",
    "        try:\n",
    "            hidden_nets = keras.models.load_model('{}/NFQ-clipped-keras.{}/model={}.hidden_net'.format(output_dir, name, k), compile=False, custom_objects={'select_output': select_output})\n",
    "        except:\n",
    "            print('\\n', name, run, k)\n",
    "            print()\n",
    "            break"
   ]
  },
  {
   "cell_type": "markdown",
   "metadata": {},
   "source": [
    "## DONE"
   ]
  },
  {
   "cell_type": "code",
   "execution_count": 14,
   "metadata": {},
   "outputs": [
    {
     "name": "stdout",
     "output_type": "stream",
     "text": [
      "va10k_mixedFQE_models\n",
      "0\n",
      "1\n",
      "2\n",
      "3\n",
      "4\n",
      "5\n",
      "6\n",
      "7\n",
      "8\n",
      "9\n"
     ]
    }
   ],
   "source": [
    "name = model_names[6]\n",
    "print(name)\n",
    "\n",
    "# FQE\n",
    "for run in runs:\n",
    "    print(run)\n",
    "    output_dir = './output/run{}/unif-10k/'.format(run)\n",
    "    for k in range(num_epoch+1):\n",
    "        try:\n",
    "            Q_nets = keras.models.load_model('{}/NFQ-clipped-keras.{}/model={}.Q_net'.format(output_dir, name, k), compile=False, custom_objects={'select_output': select_output})\n",
    "        except:\n",
    "            print('\\n', name, run, k)\n",
    "            print()\n",
    "            break"
   ]
  },
  {
   "cell_type": "code",
   "execution_count": 16,
   "metadata": {},
   "outputs": [
    {
     "name": "stdout",
     "output_type": "stream",
     "text": [
      "va500FQE_models\n",
      "0\n",
      "1\n",
      "2\n",
      "3\n",
      "4\n",
      "5\n",
      "6\n",
      "7\n",
      "8\n",
      "9\n"
     ]
    }
   ],
   "source": [
    "name = model_names[2]\n",
    "print(name)\n",
    "\n",
    "# FQE\n",
    "for run in runs:\n",
    "    print(run)\n",
    "    output_dir = './output/run{}/unif-10k/'.format(run)\n",
    "    for k in range(num_epoch+1):\n",
    "        try:\n",
    "            hidden_nets = keras.models.load_model('{}/NFQ-clipped-keras.{}/model={}.hidden_net'.format(output_dir, name, k), compile=False, custom_objects={'select_output': select_output})\n",
    "        except:\n",
    "            print('\\n', name, run, k)\n",
    "            print()\n",
    "            break"
   ]
  },
  {
   "cell_type": "code",
   "execution_count": 13,
   "metadata": {},
   "outputs": [
    {
     "name": "stdout",
     "output_type": "stream",
     "text": [
      "trFQE_models\n",
      "0\n",
      "1\n",
      "2\n",
      "3\n",
      "4\n",
      "5\n",
      "6\n",
      "7\n",
      "8\n",
      "9\n"
     ]
    }
   ],
   "source": [
    "name = model_names[0]\n",
    "print(name)\n",
    "\n",
    "# FQE\n",
    "for run in runs:\n",
    "    print(run)\n",
    "    output_dir = './output/run{}/unif-10k/'.format(run)\n",
    "    for k in range(num_epoch+1):\n",
    "        try:\n",
    "            hidden_nets = keras.models.load_model('{}/NFQ-clipped-keras.{}/model={}.hidden_net'.format(output_dir, name, k), compile=False, custom_objects={'select_output': select_output})\n",
    "        except:\n",
    "            print('\\n', name, run, k)\n",
    "            print()\n",
    "            break"
   ]
  },
  {
   "cell_type": "code",
   "execution_count": 11,
   "metadata": {},
   "outputs": [
    {
     "name": "stdout",
     "output_type": "stream",
     "text": [
      "va5kFQE_models\n",
      "0\n",
      "1\n",
      "2\n",
      "3\n",
      "4\n",
      "5\n",
      "6\n",
      "7\n",
      "8\n",
      "9\n"
     ]
    }
   ],
   "source": [
    "name = model_names[4]\n",
    "print(name)\n",
    "\n",
    "# FQE\n",
    "for run in runs:\n",
    "    print(run)\n",
    "    output_dir = './output/run{}/unif-10k/'.format(run)\n",
    "    for k in range(num_epoch+1):\n",
    "        try:\n",
    "            hidden_nets = keras.models.load_model('{}/NFQ-clipped-keras.{}/model={}.hidden_net'.format(output_dir, name, k), compile=False, custom_objects={'select_output': select_output})\n",
    "        except:\n",
    "            print('\\n', name, run, k)\n",
    "            print()\n",
    "            break"
   ]
  },
  {
   "cell_type": "code",
   "execution_count": 5,
   "metadata": {},
   "outputs": [
    {
     "name": "stdout",
     "output_type": "stream",
     "text": [
      "vaFQE_models\n",
      "0\n",
      "1\n",
      "2\n",
      "3\n",
      "4\n",
      "5\n",
      "6\n",
      "7\n",
      "8\n",
      "9\n"
     ]
    }
   ],
   "source": [
    "name = model_names[1]\n",
    "print(name)\n",
    "\n",
    "# FQE\n",
    "for run in runs:\n",
    "    print(run)\n",
    "    output_dir = './output/run{}/unif-10k/'.format(run)\n",
    "    for k in range(num_epoch+1):\n",
    "        try:\n",
    "            hidden_nets = keras.models.load_model('{}/NFQ-clipped-keras.{}/model={}.hidden_net'.format(output_dir, name, k), compile=False, custom_objects={'select_output': select_output})\n",
    "        except:\n",
    "            print('\\n', name, run, k)\n",
    "            print()\n",
    "            break"
   ]
  },
  {
   "cell_type": "code",
   "execution_count": 6,
   "metadata": {},
   "outputs": [
    {
     "name": "stdout",
     "output_type": "stream",
     "text": [
      "va10k_eps01FQE_models\n",
      "0\n",
      "1\n",
      "2\n",
      "3\n",
      "4\n",
      "5\n",
      "6\n",
      "7\n",
      "8\n",
      "9\n"
     ]
    }
   ],
   "source": [
    "name = model_names[5]\n",
    "print(name)\n",
    "\n",
    "# FQE\n",
    "for run in runs:\n",
    "    print(run)\n",
    "    output_dir = './output/run{}/unif-10k/'.format(run)\n",
    "    for k in range(num_epoch+1):\n",
    "        try:\n",
    "            Q_nets = keras.models.load_model('{}/NFQ-clipped-keras.{}/model={}.Q_net'.format(output_dir, name, k), compile=False, custom_objects={'select_output': select_output})\n",
    "        except:\n",
    "            print('\\n', name, run, k)\n",
    "            print()\n",
    "            break"
   ]
  },
  {
   "cell_type": "code",
   "execution_count": null,
   "metadata": {},
   "outputs": [],
   "source": []
  }
 ],
 "metadata": {
  "kernelspec": {
   "display_name": "Python 3",
   "language": "python",
   "name": "python3"
  },
  "language_info": {
   "codemirror_mode": {
    "name": "ipython",
    "version": 3
   },
   "file_extension": ".py",
   "mimetype": "text/x-python",
   "name": "python",
   "nbconvert_exporter": "python",
   "pygments_lexer": "ipython3",
   "version": "3.7.4"
  }
 },
 "nbformat": 4,
 "nbformat_minor": 4
}
